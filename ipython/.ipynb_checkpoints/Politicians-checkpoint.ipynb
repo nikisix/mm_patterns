{
 "metadata": {
  "name": "",
  "signature": "sha256:ed28351b5c2a81bf183d337de3e761bf4b31e87b270c2da0944c29a1f066624b"
 },
 "nbformat": 3,
 "nbformat_minor": 0,
 "worksheets": [
  {
   "cells": [
    {
     "cell_type": "code",
     "collapsed": false,
     "input": [
      "from pattern.web import Twitter, plaintext                                      \n",
      "                                                                                \n",
      "twitter = Twitter(language='en')                                                \n",
      "                                                                                \n",
      "for tweet in twitter.search('\"mysidewalk\"', count = 7,  cached=False):          \n",
      "    print tweet.title\n",
      "    print tweet.date\n",
      "    print tweet.author\n",
      "    print plaintext(tweet.text)\n",
      "    print"
     ],
     "language": "python",
     "metadata": {},
     "outputs": [
      {
       "output_type": "stream",
       "stream": "stdout",
       "text": [
        "\n",
        "Wed Oct 08 11:34:23 +0000 2014\n",
        "Moochkitty\n",
        "Yesterday morning we had a big rain. But it stopped, and the sun came out. I basked in it on MySidewalk, and while there I washed MyFace.\n",
        "\n",
        "\n",
        "Mon Oct 06 14:32:14 +0000 2014\n",
        "beacrea\n",
        "RT @mind_mixer: @beacrea @msmeliss2024 Soon :) Check back soon to https://t.co/qRUpYDN5xS\n",
        "\n",
        "\n",
        "Mon Oct 06 13:33:39 +0000 2014\n",
        "mind_mixer\n",
        "@beacrea @msmeliss2024 Soon :) Check back soon to https://t.co/qRUpYDN5xS\n",
        "\n",
        "\n",
        "Mon Oct 06 12:46:21 +0000 2014\n",
        "beacrea\n",
        "@mind_mixer, @msmeliss2024 Whats the best place to find candidate and ballot info for the upcoming MO election? Can #mysidewalk help?\n",
        "\n"
       ]
      }
     ],
     "prompt_number": 4
    },
    {
     "cell_type": "code",
     "collapsed": false,
     "input": [
      "#can't specify a search here\n",
      "for tweet in twitter.trends():  print tweet"
     ],
     "language": "python",
     "metadata": {},
     "outputs": [
      {
       "output_type": "stream",
       "stream": "stdout",
       "text": [
        "#QueLindoSeria\n",
        "#VoteVampsTeenAwards\n",
        "#WelcomeToBrasilGostosas\n",
        "#Happy21stSuzyBaeDay\n",
        "#LoQueMeRePuedeEs\n",
        "Tar\u0131kG\u00fcne\u015ften S\u00fckunet\u00c7a\u011fr\u0131s\u0131\n",
        "Ba\u015fbakanDavuto\u011flu Cuma14deMalatyada\n",
        "Ghaitsa Kenang\n",
        "Panik\n",
        "San Marino\n"
       ]
      }
     ],
     "prompt_number": 10
    },
    {
     "cell_type": "code",
     "collapsed": false,
     "input": [
      "from pattern.web import Twitter, plaintext\n",
      "from pattern.db  import Datasheet\n",
      "from pattern.nl  import sentiment as sentiment_en\n",
      "    \n",
      "csv = Datasheet()\n",
      "# for politician, party in ((\"Barack Obama\", \"IL\"), (\"Democrat\", \"D\")):\n",
      "for politician, party in ((\"Barack Obama\", \"Democrat\"), (\"Mitt Romney\", \"Republican\")):\n",
      "    for tweet in Twitter().search(politician):\n",
      "        if tweet.language in (\"en\"):\n",
      "            s = plaintext(tweet.description) \n",
      "            w = sentiment_en(s)\n",
      "            csv.append([politician, party, tweet.date, s, w])"
     ],
     "language": "python",
     "metadata": {},
     "outputs": [],
     "prompt_number": 17
    }
   ],
   "metadata": {}
  }
 ]
}