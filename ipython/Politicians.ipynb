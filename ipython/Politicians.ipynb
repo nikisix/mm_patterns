{
 "metadata": {
  "name": "",
  "signature": "sha256:6fae3fb601b7657914e09d033c28221969a3c3f25180f622bedb6ed07dfce090"
 },
 "nbformat": 3,
 "nbformat_minor": 0,
 "worksheets": [
  {
   "cells": [
    {
     "cell_type": "code",
     "collapsed": false,
     "input": [
      "from pattern.web import Twitter, plaintext                                      \n",
      "                                                                                \n",
      "twitter = Twitter(language='en')                                                \n",
      "                                                                                \n",
      "for tweet in twitter.search('\"mysidewalk\"', count = 7,  cached=False):          \n",
      "    print tweet.title\n",
      "    print tweet.date\n",
      "    print tweet.author\n",
      "    print plaintext(tweet.text)\n",
      "    print"
     ],
     "language": "python",
     "metadata": {},
     "outputs": [
      {
       "output_type": "stream",
       "stream": "stdout",
       "text": [
        "\n",
        "Wed Oct 08 11:34:23 +0000 2014\n",
        "Moochkitty\n",
        "Yesterday morning we had a big rain. But it stopped, and the sun came out. I basked in it on MySidewalk, and while there I washed MyFace.\n",
        "\n",
        "\n",
        "Mon Oct 06 14:32:14 +0000 2014\n",
        "beacrea\n",
        "RT @mind_mixer: @beacrea @msmeliss2024 Soon :) Check back soon to https://t.co/qRUpYDN5xS\n",
        "\n",
        "\n",
        "Mon Oct 06 13:33:39 +0000 2014\n",
        "mind_mixer\n",
        "@beacrea @msmeliss2024 Soon :) Check back soon to https://t.co/qRUpYDN5xS\n",
        "\n",
        "\n",
        "Mon Oct 06 12:46:21 +0000 2014\n",
        "beacrea\n",
        "@mind_mixer, @msmeliss2024 Whats the best place to find candidate and ballot info for the upcoming MO election? Can #mysidewalk help?\n",
        "\n"
       ]
      }
     ],
     "prompt_number": 26
    },
    {
     "cell_type": "code",
     "collapsed": false,
     "input": [
      "#can't specify a search here\n",
      "for tweet in twitter.trends():  print tweet"
     ],
     "language": "python",
     "metadata": {},
     "outputs": [
      {
       "output_type": "stream",
       "stream": "stdout",
       "text": [
        "#QueLindoSeria\n",
        "#VoteVampsTeenAwards\n",
        "#WelcomeToBrasilGostosas\n",
        "#Happy21stSuzyBaeDay\n",
        "#LoQueMeRePuedeEs\n",
        "Tar\u0131kG\u00fcne\u015ften S\u00fckunet\u00c7a\u011fr\u0131s\u0131\n",
        "Ba\u015fbakanDavuto\u011flu Cuma14deMalatyada\n",
        "Ghaitsa Kenang\n",
        "Panik\n",
        "San Marino\n"
       ]
      }
     ],
     "prompt_number": 10
    },
    {
     "cell_type": "code",
     "collapsed": false,
     "input": [
      "from pattern.web import Twitter, plaintext\n",
      "from pattern.db  import Datasheet\n",
      "from pattern.nl  import sentiment as sentiment_en\n",
      "    \n",
      "csv = Datasheet()\n",
      "# for politician, party in ((\"Barack Obama\", \"IL\"), (\"Democrat\", \"D\")):\n",
      "for politician, party in ((\"Barack Obama\", \"Democrat\"), (\"Mitt Romney\", \"Republican\")):\n",
      "    for tweet in Twitter().search(politician):\n",
      "        if tweet.language in (\"en\"):\n",
      "            s = plaintext(tweet.description) \n",
      "            w = sentiment_en(s)\n",
      "            csv.append([politician, party, tweet.date, s, w])"
     ],
     "language": "python",
     "metadata": {},
     "outputs": [],
     "prompt_number": 17
    },
    {
     "cell_type": "code",
     "collapsed": false,
     "input": [
      "csv"
     ],
     "language": "python",
     "metadata": {},
     "outputs": [
      {
       "metadata": {},
       "output_type": "pyout",
       "prompt_number": 25,
       "text": [
        "[['Barack Obama',\n",
        "  'Democrat',\n",
        "  u'Thu Oct 09 18:07:21 +0000 2014',\n",
        "  u'RT @History_Pics: Young Barack Obama with his mother http://t.co/dB6cgIi6Em',\n",
        "  (0.0, 0.0)],\n",
        " ['Barack Obama',\n",
        "  'Democrat',\n",
        "  u'Thu Oct 09 18:07:17 +0000 2014',\n",
        "  u\"I've written about how I'd like to be an astronaut and how I'd meet Barack Obama but please\",\n",
        "  (0.0, 0.0)],\n",
        " ['Barack Obama',\n",
        "  'Democrat',\n",
        "  u'Thu Oct 09 18:07:17 +0000 2014',\n",
        "  u\"Barack Obama will be on the Oct. 23 cover of Rolling Stone magazine. It's his 8th time on the cover, the same amount as Britney Spears.\",\n",
        "  (0.0, 0.0)],\n",
        " ['Barack Obama',\n",
        "  'Democrat',\n",
        "  u'Thu Oct 09 18:07:13 +0000 2014',\n",
        "  u'RT @charlescwcooke: \\u201cMr Obama appeared to underestimate how little Americans, born to be free, like being mandated to do anything.\\u201d http://\\u2026',\n",
        "  (0.0, 0.0)],\n",
        " ['Barack Obama',\n",
        "  'Democrat',\n",
        "  u'Thu Oct 09 18:07:04 +0000 2014',\n",
        "  u'RT @Callisto1947: Col Allen West Is Right, President Barack Obama Is On The Side of the Islamists!\\n#tcot #ccot #pjnet @AmyMek http://t.co/L\\u2026',\n",
        "  (0.0, 0.0)],\n",
        " ['Barack Obama',\n",
        "  'Democrat',\n",
        "  u'Thu Oct 09 18:06:58 +0000 2014',\n",
        "  u'RT @BarracudaMama: Obama, Ebola virus is under control. Political Cartoon by A.F.Branco \\xa92014 You Go First Barack!\\u2026 https://t.co/pVqCXjzJlp',\n",
        "  (0.0, 0.0)],\n",
        " ['Barack Obama',\n",
        "  'Democrat',\n",
        "  u'Thu Oct 09 18:06:46 +0000 2014',\n",
        "  u'RT @weknowwhatsbest: Harvard students claim America is responsible for ISIS. ISIS claims Harvard is responsible for Barack Obama, Ted Kenn\\u2026',\n",
        "  (0.0, 0.0)],\n",
        " ['Barack Obama',\n",
        "  'Democrat',\n",
        "  u'Thu Oct 09 18:06:44 +0000 2014',\n",
        "  u'RT @pollreport: The way Barack Obama is handling his job as president: Approve 42% / Disapprove 50% (CBS News Poll, 10/3-6) http://t.co/min\\u2026',\n",
        "  (0.0, 0.0)],\n",
        " ['Barack Obama',\n",
        "  'Democrat',\n",
        "  u'Thu Oct 09 18:06:41 +0000 2014',\n",
        "  u'RT @History_Pics: Young Barack Obama with his mother http://t.co/dB6cgIi6Em',\n",
        "  (0.0, 0.0)],\n",
        " ['Mitt Romney',\n",
        "  'Republican',\n",
        "  u'Thu Oct 09 18:07:14 +0000 2014',\n",
        "  u\"RT @MiaBLove: What an exciting rally we had last night with @MittRomney! I'm thrilled to have his support. http://t.co/As2yJRjlJ1 #utpol #t\\u2026\",\n",
        "  (0.0, 0.0)],\n",
        " ['Mitt Romney',\n",
        "  'Republican',\n",
        "  u'Thu Oct 09 18:07:07 +0000 2014',\n",
        "  u\"RT @MiaBLove: What an exciting rally we had last night with @MittRomney! I'm thrilled to have his support. http://t.co/As2yJRjlJ1 #utpol #t\\u2026\",\n",
        "  (0.0, 0.0)],\n",
        " ['Mitt Romney',\n",
        "  'Republican',\n",
        "  u'Thu Oct 09 18:06:46 +0000 2014',\n",
        "  u\"RT @MiaBLove: What an exciting rally we had last night with @MittRomney! I'm thrilled to have his support. http://t.co/As2yJRjlJ1 #utpol #t\\u2026\",\n",
        "  (0.0, 0.0)],\n",
        " ['Mitt Romney',\n",
        "  'Republican',\n",
        "  u'Thu Oct 09 18:06:36 +0000 2014',\n",
        "  u'RT @iaaronmitch: Most boring award to Paul Ryan. Biggest loser award to Mitt Romney. Biggest token award to Ben Carson. Dumbest Canadian aw\\u2026',\n",
        "  (0.0, 0.0)],\n",
        " ['Mitt Romney',\n",
        "  'Republican',\n",
        "  u'Thu Oct 09 18:05:11 +0000 2014',\n",
        "  u\"CBS: Mitt Romney A 'Political MVP' in 2014; Obama Not So Much http://t.co/xFfQkIuj3b\",\n",
        "  (0.0, 0.0)],\n",
        " ['Mitt Romney',\n",
        "  'Republican',\n",
        "  u'Thu Oct 09 18:03:46 +0000 2014',\n",
        "  u\"@such_A_frknlady fuck him & Mitt Romney. How in the fuck does a white man determine what's deemed racist in the eyes of minorities?\",\n",
        "  (0.0, 0.0)],\n",
        " ['Mitt Romney',\n",
        "  'Republican',\n",
        "  u'Thu Oct 09 18:03:18 +0000 2014',\n",
        "  u\"RT @MiaBLove: What an exciting rally we had last night with @MittRomney! I'm thrilled to have his support. http://t.co/As2yJRjlJ1 #utpol #t\\u2026\",\n",
        "  (0.0, 0.0)],\n",
        " ['Mitt Romney',\n",
        "  'Republican',\n",
        "  u'Thu Oct 09 18:02:57 +0000 2014',\n",
        "  u'michelleobama: mittromney: barackobama: jesus: mitt romney has a crush on obama pass it on omg \\u2026 honey is... http://t.co/mnwT5na4Rc',\n",
        "  (0.0, 0.0)],\n",
        " ['Mitt Romney',\n",
        "  'Republican',\n",
        "  u'Thu Oct 09 18:01:45 +0000 2014',\n",
        "  u'RT @iaaronmitch: Most boring award to Paul Ryan. Biggest loser award to Mitt Romney. Biggest token award to Ben Carson. Dumbest Canadian aw\\u2026',\n",
        "  (0.0, 0.0)],\n",
        " ['Mitt Romney',\n",
        "  'Republican',\n",
        "  u'Thu Oct 09 18:01:29 +0000 2014',\n",
        "  u'RT @MtnMD: In 2012, Mitt Romney said he could get unemployment below 6% in 4 yrs. I guess Republicans must think Obama is amazing, doing it\\u2026',\n",
        "  (0.2, 0.5)]]"
       ]
      }
     ],
     "prompt_number": 25
    }
   ],
   "metadata": {}
  }
 ]
}